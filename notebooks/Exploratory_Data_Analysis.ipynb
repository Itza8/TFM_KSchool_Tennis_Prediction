{
 "cells": [
  {
   "cell_type": "markdown",
   "metadata": {
    "colab_type": "text",
    "id": "XjILeeI2SUvR"
   },
   "source": [
    "# Dependencias\n",
    "\n",
    "- `pandas` para tratamiento de datos\n",
    "- `seaborn` para visualización -> https://seaborn.pydata.org/api.html\n",
    "- `networkx` para temas de grafos"
   ]
  },
  {
   "cell_type": "code",
   "execution_count": null,
   "metadata": {
    "colab": {
     "base_uri": "https://localhost:8080/",
     "height": 34
    },
    "colab_type": "code",
    "executionInfo": {
     "elapsed": 1291,
     "status": "ok",
     "timestamp": 1574191634993,
     "user": {
      "displayName": "Sergio Calderón Pérez-Lozao",
      "photoUrl": "https://lh3.googleusercontent.com/a-/AAuE7mCJQXOBBYNeA7EoDkuzmOR9mrpt00Oq0Utr2KbkLQ=s64",
      "userId": "13906556686737527066"
     },
     "user_tz": -60
    },
    "id": "HoT0ZBzOOzTg",
    "outputId": "2ffc4b85-91f3-4fea-cfc8-ea4f8c8a64fa"
   },
   "outputs": [],
   "source": [
    "import pandas as pd\n",
    "import seaborn as sns\n",
    "import matplotlib.pyplot as plt\n",
    "import networkx as nx\n",
    "from pathlib import Path"
   ]
  },
  {
   "cell_type": "markdown",
   "metadata": {
    "colab_type": "text",
    "id": "e04i0YV7w6me"
   },
   "source": [
    "# Constantes"
   ]
  },
  {
   "cell_type": "code",
   "execution_count": null,
   "metadata": {
    "colab": {},
    "colab_type": "code",
    "id": "bf72H6F2PQbk"
   },
   "outputs": [],
   "source": [
    "PATH_PROJECT_DATA = Path('../data')\n",
    "GRAND_SLAMS_AND_COLORS = {'wimbledon': 'green',\n",
    "                          'roland-garros' :'orange',\n",
    "                          'us-open': 'blue',\n",
    "                          'australian-open': 'black'}"
   ]
  },
  {
   "cell_type": "markdown",
   "metadata": {
    "colab_type": "text",
    "id": "iBNM8eT1w9so"
   },
   "source": [
    "# Leemos los datos y hacemos la primera visualización que nos interesa"
   ]
  },
  {
   "cell_type": "code",
   "execution_count": null,
   "metadata": {
    "colab": {},
    "colab_type": "code",
    "id": "HS5ud-WvPdEg"
   },
   "outputs": [],
   "source": [
    "df_matches_grand_slam_cleaned = pd.read_csv(PATH_PROJECT_DATA\n",
    "                                            / 'matches_grand_slam_cleaned.csv')"
   ]
  },
  {
   "cell_type": "markdown",
   "metadata": {
    "colab_type": "text",
    "id": "R3MdGM_JIRru"
   },
   "source": [
    "# Visualización de correlaciones"
   ]
  },
  {
   "cell_type": "code",
   "execution_count": null,
   "metadata": {
    "colab": {
     "base_uri": "https://localhost:8080/",
     "height": 1000
    },
    "colab_type": "code",
    "executionInfo": {
     "elapsed": 13948,
     "status": "ok",
     "timestamp": 1574191809448,
     "user": {
      "displayName": "Sergio Calderón Pérez-Lozao",
      "photoUrl": "https://lh3.googleusercontent.com/a-/AAuE7mCJQXOBBYNeA7EoDkuzmOR9mrpt00Oq0Utr2KbkLQ=s64",
      "userId": "13906556686737527066"
     },
     "user_tz": -60
    },
    "id": "n64EMdC0IR0i",
    "outputId": "a41f3186-ebad-48b8-e91c-9d72d586dbaf"
   },
   "outputs": [],
   "source": [
    "sns.pairplot(\n",
    "    df_matches_grand_slam_cleaned[['tournament',\n",
    "                                   'games_won_1',\n",
    "                                   'games_won_2',\n",
    "                                   'first_serve_made_1',\n",
    "                                   'first_serve_made_2',\n",
    "                                   'first_serve_return_points_made_1',\n",
    "                                   'first_serve_return_points_made_2',\n",
    "                                   'player_victory_1']])"
   ]
  },
  {
   "cell_type": "markdown",
   "metadata": {
    "colab_type": "text",
    "id": "y72aiTEAxEMX"
   },
   "source": [
    "## En este caso vemos como se relacionan los aces y los partidos ganados"
   ]
  },
  {
   "cell_type": "code",
   "execution_count": null,
   "metadata": {
    "colab": {
     "base_uri": "https://localhost:8080/",
     "height": 441
    },
    "colab_type": "code",
    "executionInfo": {
     "elapsed": 3356,
     "status": "ok",
     "timestamp": 1574185225406,
     "user": {
      "displayName": "Sergio Calderón Pérez-Lozao",
      "photoUrl": "https://lh3.googleusercontent.com/a-/AAuE7mCJQXOBBYNeA7EoDkuzmOR9mrpt00Oq0Utr2KbkLQ=s64",
      "userId": "13906556686737527066"
     },
     "user_tz": -60
    },
    "id": "Rnh3s-HHPk5B",
    "outputId": "ef708b09-e73c-4212-e158-7d3a40849eef"
   },
   "outputs": [],
   "source": [
    "g = sns.jointplot('aces_1',\n",
    "                  'games_won_1',\n",
    "                  data=df_matches_grand_slam_cleaned,\n",
    "                  kind=\"reg\")"
   ]
  },
  {
   "cell_type": "markdown",
   "metadata": {
    "colab_type": "text",
    "id": "GPCp81kuRMid"
   },
   "source": [
    "## En la visualización se ve un outlier, por lo que estudiamos el caso y vemos que efectivamente es un partido de winbledon en 2010 entre Isner y Mahut"
   ]
  },
  {
   "cell_type": "code",
   "execution_count": null,
   "metadata": {
    "colab": {
     "base_uri": "https://localhost:8080/",
     "height": 80
    },
    "colab_type": "code",
    "executionInfo": {
     "elapsed": 577,
     "status": "ok",
     "timestamp": 1574185255022,
     "user": {
      "displayName": "Sergio Calderón Pérez-Lozao",
      "photoUrl": "https://lh3.googleusercontent.com/a-/AAuE7mCJQXOBBYNeA7EoDkuzmOR9mrpt00Oq0Utr2KbkLQ=s64",
      "userId": "13906556686737527066"
     },
     "user_tz": -60
    },
    "id": "4afcj5aHQqQi",
    "outputId": "b63b432a-c9a9-4ef1-a8a4-22a3fff590e3"
   },
   "outputs": [],
   "source": [
    "(df_matches_grand_slam_cleaned\n",
    " .loc[df_matches_grand_slam_cleaned['aces_1'] > 100,\n",
    "      ['player_1', 'player_2', 'tournament', 'year']])"
   ]
  },
  {
   "cell_type": "markdown",
   "metadata": {
    "colab_type": "text",
    "id": "udvdfjHRwPCI"
   },
   "source": [
    "## Comprobamos que los partidos están balanceados entre torneos"
   ]
  },
  {
   "cell_type": "code",
   "execution_count": null,
   "metadata": {
    "colab": {
     "base_uri": "https://localhost:8080/",
     "height": 102
    },
    "colab_type": "code",
    "executionInfo": {
     "elapsed": 464,
     "status": "ok",
     "timestamp": 1574185258895,
     "user": {
      "displayName": "Sergio Calderón Pérez-Lozao",
      "photoUrl": "https://lh3.googleusercontent.com/a-/AAuE7mCJQXOBBYNeA7EoDkuzmOR9mrpt00Oq0Utr2KbkLQ=s64",
      "userId": "13906556686737527066"
     },
     "user_tz": -60
    },
    "id": "b45BdrkpT7t1",
    "outputId": "3abbb12e-04b4-418c-f785-8354beb61244"
   },
   "outputs": [],
   "source": [
    "df_matches_grand_slam_cleaned.tournament.value_counts()"
   ]
  },
  {
   "cell_type": "markdown",
   "metadata": {
    "colab_type": "text",
    "id": "7OdCdiM_xOZf"
   },
   "source": [
    "# Comprobamos si la relacion entre aces y juegos ganados es diferente para los distintos torneos"
   ]
  },
  {
   "cell_type": "code",
   "execution_count": null,
   "metadata": {
    "colab": {
     "base_uri": "https://localhost:8080/",
     "height": 1000
    },
    "colab_type": "code",
    "executionInfo": {
     "elapsed": 5889,
     "status": "ok",
     "timestamp": 1574185721844,
     "user": {
      "displayName": "Sergio Calderón Pérez-Lozao",
      "photoUrl": "https://lh3.googleusercontent.com/a-/AAuE7mCJQXOBBYNeA7EoDkuzmOR9mrpt00Oq0Utr2KbkLQ=s64",
      "userId": "13906556686737527066"
     },
     "user_tz": -60
    },
    "id": "fxbcBONHTFGY",
    "outputId": "5e83c46e-1695-4155-ff31-b6d0d19c64ed",
    "scrolled": false
   },
   "outputs": [],
   "source": [
    "for grand_slam, color in GRAND_SLAMS_AND_COLORS.items():\n",
    "    df_matches_grand_slam_cleaned_filtered = (\n",
    "        df_matches_grand_slam_cleaned[df_matches_grand_slam_cleaned['tournament']\n",
    "                                      == grand_slam]\n",
    "    )\n",
    "\n",
    "    g = sns.jointplot(\n",
    "        'aces_1',\n",
    "        'games_won_1',\n",
    "        data=df_matches_grand_slam_cleaned_filtered,\n",
    "        color=color,\n",
    "        xlim=(0, 60),\n",
    "        ylim=(0, 50),\n",
    "        kind=\"reg\")"
   ]
  },
  {
   "cell_type": "markdown",
   "metadata": {
    "colab_type": "text",
    "id": "YjUm_b-jYbv3"
   },
   "source": [
    "## Vemos que la pendiente de Roland Garros es mayor! Pero claro, hacen muchos menos aces, aquí debajo lo comprobamos"
   ]
  },
  {
   "cell_type": "code",
   "execution_count": null,
   "metadata": {
    "colab": {
     "base_uri": "https://localhost:8080/",
     "height": 85
    },
    "colab_type": "code",
    "executionInfo": {
     "elapsed": 439,
     "status": "ok",
     "timestamp": 1574185739780,
     "user": {
      "displayName": "Sergio Calderón Pérez-Lozao",
      "photoUrl": "https://lh3.googleusercontent.com/a-/AAuE7mCJQXOBBYNeA7EoDkuzmOR9mrpt00Oq0Utr2KbkLQ=s64",
      "userId": "13906556686737527066"
     },
     "user_tz": -60
    },
    "id": "gITn4SUQXqSH",
    "outputId": "6ecfcc76-5fc3-4700-a139-f058e74c612a"
   },
   "outputs": [],
   "source": [
    "for grand_slam in GRAND_SLAMS_AND_COLORS.keys():\n",
    "    aces_1 = (\n",
    "        df_matches_grand_slam_cleaned\n",
    "        .loc[df_matches_grand_slam_cleaned['tournament'] == grand_slam,\n",
    "             'aces_1']\n",
    "        .sum()\n",
    "    )\n",
    "  \n",
    "    aces_2 = (\n",
    "        df_matches_grand_slam_cleaned\n",
    "        .loc[df_matches_grand_slam_cleaned['tournament'] == grand_slam,\n",
    "             'aces_2']\n",
    "        .sum()\n",
    "    )\n",
    "    print(grand_slam, aces_1 + aces_2)"
   ]
  }
 ],
 "metadata": {
  "colab": {
   "collapsed_sections": [],
   "name": "Exploratory_Data_Analysis.ipynb",
   "provenance": []
  },
  "kernelspec": {
   "display_name": "Python 3",
   "language": "python",
   "name": "python3"
  },
  "language_info": {
   "codemirror_mode": {
    "name": "ipython",
    "version": 3
   },
   "file_extension": ".py",
   "mimetype": "text/x-python",
   "name": "python",
   "nbconvert_exporter": "python",
   "pygments_lexer": "ipython3",
   "version": "3.7.0"
  }
 },
 "nbformat": 4,
 "nbformat_minor": 1
}
