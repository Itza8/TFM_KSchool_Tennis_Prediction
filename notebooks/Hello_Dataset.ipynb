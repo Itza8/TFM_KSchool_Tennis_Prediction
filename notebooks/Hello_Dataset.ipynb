{
 "cells": [
  {
   "cell_type": "markdown",
   "metadata": {
    "colab_type": "text",
    "id": "bxgI3U1z85hH"
   },
   "source": [
    "# Dataset de tenis\n",
    "\n",
    "[URL](https://www.kaggle.com/ehallmar/a-large-tennis-dataset-for-atp-and-itf-betting)\n",
    "\n",
    "![Tenis](https://media.giphy.com/media/l378nQAeexVYyjqs8/giphy.gif)"
   ]
  },
  {
   "cell_type": "markdown",
   "metadata": {
    "colab_type": "text",
    "id": "5oo3XRbotbeN"
   },
   "source": [
    "# Importamos las dependencias\n",
    "\n",
    "- `pandas`: Se utiliza para la lectura y procesado de los datos a nivel de DataFrame\n",
    "- `pahtlib.Path`: Se utiliza para tener rutas transparentes al sistema operativo."
   ]
  },
  {
   "cell_type": "code",
   "execution_count": null,
   "metadata": {
    "colab": {
     "base_uri": "https://localhost:8080/",
     "height": 156
    },
    "colab_type": "code",
    "executionInfo": {
     "elapsed": 89495,
     "status": "ok",
     "timestamp": 1572376248068,
     "user": {
      "displayName": "Sergio Calderón Pérez-Lozao",
      "photoUrl": "https://lh3.googleusercontent.com/a-/AAuE7mCJQXOBBYNeA7EoDkuzmOR9mrpt00Oq0Utr2KbkLQ=s64",
      "userId": "13906556686737527066"
     },
     "user_tz": -60
    },
    "id": "CxDqnWlUsgXY",
    "outputId": "430fc1b3-b135-4e7b-cb74-9b7f8394bfd3"
   },
   "outputs": [],
   "source": [
    "import pandas as pd\n",
    "from pathlib import Path"
   ]
  },
  {
   "cell_type": "markdown",
   "metadata": {
    "colab_type": "text",
    "id": "ZTGe4vYSwvvd"
   },
   "source": [
    "# Definición de constantes\n",
    "\n",
    "- Variables, todo en minúscula y separadas por `_`, por ejemplo: my_variable\n",
    "- Constantes, todo en mayúsculas y separadas por `_`, por ejemplo: MY_CONSTANT\n",
    "- Clases, primeras letras de cada palabra en mayúscula y sin `_`, por ejemplo: MyClass"
   ]
  },
  {
   "cell_type": "code",
   "execution_count": null,
   "metadata": {
    "colab": {},
    "colab_type": "code",
    "id": "3mpU8DNowv9j"
   },
   "outputs": [],
   "source": [
    "PATH_PROJECT_DATA = Path('../data')"
   ]
  },
  {
   "cell_type": "markdown",
   "metadata": {
    "colab_type": "text",
    "id": "5C6rP_Tltpfb"
   },
   "source": [
    "# Lectura de los datos"
   ]
  },
  {
   "cell_type": "code",
   "execution_count": null,
   "metadata": {
    "colab": {
     "base_uri": "https://localhost:8080/",
     "height": 51
    },
    "colab_type": "code",
    "executionInfo": {
     "elapsed": 30528,
     "status": "ok",
     "timestamp": 1572376456268,
     "user": {
      "displayName": "Sergio Calderón Pérez-Lozao",
      "photoUrl": "https://lh3.googleusercontent.com/a-/AAuE7mCJQXOBBYNeA7EoDkuzmOR9mrpt00Oq0Utr2KbkLQ=s64",
      "userId": "13906556686737527066"
     },
     "user_tz": -60
    },
    "id": "VduaEc9xtpUr",
    "outputId": "c42d54fd-b2b2-4d51-ebed-1e453f3da9f6"
   },
   "outputs": [],
   "source": [
    "df_matches = pd.read_csv(PATH_PROJECT_DATA / 'all_matches.csv')"
   ]
  },
  {
   "cell_type": "markdown",
   "metadata": {
    "colab_type": "text",
    "id": "BsQDSgQSy7-Z"
   },
   "source": [
    "# Primera vista de los datos\n"
   ]
  },
  {
   "cell_type": "markdown",
   "metadata": {
    "colab_type": "text",
    "id": "XRy6Jx9LzgkH"
   },
   "source": [
    "## Partidos"
   ]
  },
  {
   "cell_type": "code",
   "execution_count": null,
   "metadata": {
    "colab": {
     "base_uri": "https://localhost:8080/",
     "height": 360
    },
    "colab_type": "code",
    "executionInfo": {
     "elapsed": 1116,
     "status": "ok",
     "timestamp": 1572376458419,
     "user": {
      "displayName": "Sergio Calderón Pérez-Lozao",
      "photoUrl": "https://lh3.googleusercontent.com/a-/AAuE7mCJQXOBBYNeA7EoDkuzmOR9mrpt00Oq0Utr2KbkLQ=s64",
      "userId": "13906556686737527066"
     },
     "user_tz": -60
    },
    "id": "-SGMhq5Vto7G",
    "outputId": "dc64d5ff-0865-41cc-f3db-c9bbc2f79d15"
   },
   "outputs": [],
   "source": [
    "df_matches.head()"
   ]
  },
  {
   "cell_type": "markdown",
   "metadata": {},
   "source": [
    "# Final de Wimbledon 2008\n",
    "\n",
    "Vemos como salen los datos \"duplicados\" y nos dan información tanto de dobles como de individuales"
   ]
  },
  {
   "cell_type": "code",
   "execution_count": null,
   "metadata": {},
   "outputs": [],
   "source": [
    "df_matches[(df_matches['year'] == 2008) & (df_matches['tournament'] == 'wimbledon') & (df_matches['round'] == 'Finals')]"
   ]
  }
 ],
 "metadata": {
  "colab": {
   "collapsed_sections": [],
   "name": "Hello_Dataset (3).ipynb",
   "provenance": []
  },
  "kernelspec": {
   "display_name": "Python 3",
   "language": "python",
   "name": "python3"
  },
  "language_info": {
   "codemirror_mode": {
    "name": "ipython",
    "version": 3
   },
   "file_extension": ".py",
   "mimetype": "text/x-python",
   "name": "python",
   "nbconvert_exporter": "python",
   "pygments_lexer": "ipython3",
   "version": "3.7.0"
  }
 },
 "nbformat": 4,
 "nbformat_minor": 1
}
