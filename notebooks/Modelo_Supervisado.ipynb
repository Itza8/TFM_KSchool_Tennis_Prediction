{
 "cells": [
  {
   "cell_type": "markdown",
   "metadata": {
    "colab_type": "text",
    "id": "lvVTQgdurnPO"
   },
   "source": [
    "# Dependencias"
   ]
  },
  {
   "cell_type": "code",
   "execution_count": null,
   "metadata": {
    "colab": {
     "base_uri": "https://localhost:8080/",
     "height": 122
    },
    "colab_type": "code",
    "executionInfo": {
     "elapsed": 20806,
     "status": "ok",
     "timestamp": 1578678081682,
     "user": {
      "displayName": "Sergio Calderón Pérez-Lozao",
      "photoUrl": "https://lh3.googleusercontent.com/a-/AAuE7mCJQXOBBYNeA7EoDkuzmOR9mrpt00Oq0Utr2KbkLQ=s64",
      "userId": "13906556686737527066"
     },
     "user_tz": -60
    },
    "id": "zTnAMmCprp8l",
    "outputId": "73a28ec3-4780-44f8-fe2f-cd6c3a6af728"
   },
   "outputs": [],
   "source": [
    "import pandas as pd\n",
    "import matplotlib.pyplot as plt\n",
    "from sklearn import preprocessing\n",
    "from scipy.cluster.hierarchy import dendrogram, linkage\n",
    "from pathlib import Path"
   ]
  },
  {
   "cell_type": "markdown",
   "metadata": {
    "colab_type": "text",
    "id": "B1jCQ1EHrsIz"
   },
   "source": [
    "# Constantes"
   ]
  },
  {
   "cell_type": "code",
   "execution_count": null,
   "metadata": {
    "colab": {},
    "colab_type": "code",
    "id": "pqqzC2nTrsNp"
   },
   "outputs": [],
   "source": [
    "PATH_PROJECT_DATA = Path('../data')\n",
    "PATH_PROJECT_MODELS = Path('../objects')"
   ]
  },
  {
   "cell_type": "markdown",
   "metadata": {
    "colab_type": "text",
    "id": "BfBtMX3IrsR2"
   },
   "source": [
    "# Lectura de los datos"
   ]
  },
  {
   "cell_type": "code",
   "execution_count": null,
   "metadata": {
    "colab": {},
    "colab_type": "code",
    "id": "xmeBImmLrsV0"
   },
   "outputs": [],
   "source": [
    "df_players_cleaned = pd.read_csv(PATH_PROJECT_DATA / 'players_cleaned.csv')\n",
    "df_matches = pd.read_csv(PATH_PROJECT_DATA / 'matches_grand_slam_cleaned.csv')"
   ]
  },
  {
   "cell_type": "markdown",
   "metadata": {
    "colab_type": "text",
    "id": "m_LvT11Wryn5"
   },
   "source": [
    "# Transformamos el target a numerico"
   ]
  },
  {
   "cell_type": "code",
   "execution_count": null,
   "metadata": {
    "colab": {},
    "colab_type": "code",
    "id": "YawCG2mPrysb"
   },
   "outputs": [],
   "source": [
    "df_players_cleaned['player_victory'] = (\n",
    "    pd.get_dummies(df_players_cleaned['player_victory'],\n",
    "                   drop_first=True)\n",
    ")"
   ]
  },
  {
   "cell_type": "markdown",
   "metadata": {
    "colab_type": "text",
    "id": "VykqfgC9sNRS"
   },
   "source": [
    "# Creamos la agrupación de los jugadores con sus estadisticas acumuladas\n",
    "\n",
    "Dataframe a nivel de jugador por cada partido distinto, acumulando las estadisticas previas a ese partido"
   ]
  },
  {
   "cell_type": "code",
   "execution_count": null,
   "metadata": {
    "colab": {},
    "colab_type": "code",
    "id": "HVj3Uq4Es-jY"
   },
   "outputs": [],
   "source": [
    "df_players_cleaned_grouped = pd.concat([\n",
    "    (df_players_cleaned[['player_name', 'year',\n",
    "                         'start_date', 'round_num']]\n",
    "     .sort_values(['year', 'start_date', 'round_num'])\n",
    "     .drop_duplicates(subset=['player_name', 'year', 'start_date', 'round_num'],\n",
    "                      keep='first')),\n",
    "    (df_players_cleaned\n",
    "     .drop(columns=['tournament', 'seed', 'retirement'])\n",
    "     .sort_values(['year', 'start_date', 'round_num'])\n",
    "     .drop_duplicates(subset=['player_name', 'year', 'start_date', 'round_num'],\n",
    "                      keep='first')\n",
    "     .drop(columns=['year', 'start_date', 'round_num'])\n",
    "     .groupby('player_name')\n",
    "     .transform('cumsum')\n",
    "     - df_players_cleaned.drop(columns=['player_name', 'year',\n",
    "                                        'tournament', 'seed',\n",
    "                                        'start_date','round_num',\n",
    "                                        'retirement']))\n",
    "], axis=1)"
   ]
  },
  {
   "cell_type": "markdown",
   "metadata": {
    "colab_type": "text",
    "id": "0ka5B6V6bJTk"
   },
   "source": [
    "# Tratamos un poco los partidos de partidos"
   ]
  },
  {
   "cell_type": "code",
   "execution_count": null,
   "metadata": {
    "colab": {},
    "colab_type": "code",
    "id": "lsqQQeijtD3n"
   },
   "outputs": [],
   "source": [
    "df_matches_subset = (df_matches[['court_surface', 'year',\n",
    "                                 'tournament', 'start_date',\n",
    "                                 'round', 'round_num',\n",
    "                                 'player_1', 'player_2',\n",
    "                                 'player_victory_1']]\n",
    "                     .rename(columns=dict(player_victory_1='player_victory_target')))\n",
    "\n",
    "df_matches_subset['player_victory_target'] = (\n",
    "    pd.get_dummies(df_matches_subset['player_victory_target'],\n",
    "                   drop_first=True)\n",
    ")"
   ]
  },
  {
   "cell_type": "code",
   "execution_count": null,
   "metadata": {
    "colab": {},
    "colab_type": "code",
    "id": "UIAU2mL6rZR8"
   },
   "outputs": [],
   "source": [
    "original_columns = df_players_cleaned_grouped.columns\n",
    "\n",
    "df_players_cleaned_grouped.columns = original_columns + '_player_1'\n",
    "df_matches_subset_joined_player_1 = (\n",
    "    df_matches_subset\n",
    "    .merge(df_players_cleaned_grouped,\n",
    "           left_on=['player_1', 'year', 'start_date', 'round_num'],\n",
    "           right_on=['player_name_player_1', 'year_player_1',\n",
    "                     'start_date_player_1', 'round_num_player_1'],\n",
    "           how='inner')\n",
    "    .drop(columns=['player_name_player_1', 'year_player_1',\n",
    "                   'start_date_player_1', 'round_num_player_1'])\n",
    ")\n",
    "\n",
    "df_players_cleaned_grouped.columns = original_columns + '_player_2'\n",
    "df_matches_subset_joined = (\n",
    "    df_matches_subset_joined_player_1\n",
    "    .merge(df_players_cleaned_grouped,\n",
    "           left_on=['player_2', 'year', 'start_date', 'round_num'],\n",
    "           right_on=['player_name_player_2', 'year_player_2',\n",
    "                     'start_date_player_2', 'round_num_player_2'],\n",
    "           how='inner')\n",
    "    .drop(columns=['player_name_player_2', 'year_player_2',\n",
    "                   'start_date_player_2', 'round_num_player_2'])\n",
    ")\n",
    "\n",
    "df_players_cleaned_grouped.columns = original_columns"
   ]
  },
  {
   "cell_type": "code",
   "execution_count": null,
   "metadata": {
    "colab": {
     "base_uri": "https://localhost:8080/",
     "height": 312
    },
    "colab_type": "code",
    "executionInfo": {
     "elapsed": 5806,
     "status": "ok",
     "timestamp": 1578678105403,
     "user": {
      "displayName": "Sergio Calderón Pérez-Lozao",
      "photoUrl": "https://lh3.googleusercontent.com/a-/AAuE7mCJQXOBBYNeA7EoDkuzmOR9mrpt00Oq0Utr2KbkLQ=s64",
      "userId": "13906556686737527066"
     },
     "user_tz": -60
    },
    "id": "tIpDM8HcrgH5",
    "outputId": "7d3a15ac-f13b-4147-f506-463a8e240ee4"
   },
   "outputs": [],
   "source": [
    "from xgboost import XGBClassifier\n",
    "from xgboost import plot_importance\n",
    "from sklearn.model_selection import train_test_split\n",
    "\n",
    "\n",
    "X = df_matches_subset_joined.drop(columns=['player_1',\n",
    "                                           'player_2',\n",
    "                                           'start_date',\n",
    "                                           'year',\n",
    "                                           'round',\n",
    "                                           'court_surface',\n",
    "                                           'tournament',\n",
    "                                           'player_victory_target'])\n",
    "\n",
    "y = df_matches_subset_joined['player_victory_target']\n",
    "\n",
    "train_features, test_features, train_labels, test_labels = (\n",
    "    train_test_split(X, y, test_size = 0.25, random_state = 42)\n",
    ")\n",
    "\n",
    "params_xgb = dict(num_round=200,\n",
    "                  max_depth=4,\n",
    "                  random_state=0,\n",
    "                  reg_lambda=15,\n",
    "                  min_child_weight=10,\n",
    "                  objective='binary:logistic',\n",
    "                  colsample_bytree=.8,\n",
    "                  feature_names=train_features.columns)\n",
    "\n",
    "xgb = XGBClassifier(**params_xgb)\n",
    "\n",
    "xgb.fit(train_features, train_labels)\n",
    "\n",
    "plot_importance(xgb, max_num_features=10)"
   ]
  },
  {
   "cell_type": "code",
   "execution_count": null,
   "metadata": {
    "colab": {
     "base_uri": "https://localhost:8080/",
     "height": 119
    },
    "colab_type": "code",
    "executionInfo": {
     "elapsed": 5927,
     "status": "ok",
     "timestamp": 1578678105703,
     "user": {
      "displayName": "Sergio Calderón Pérez-Lozao",
      "photoUrl": "https://lh3.googleusercontent.com/a-/AAuE7mCJQXOBBYNeA7EoDkuzmOR9mrpt00Oq0Utr2KbkLQ=s64",
      "userId": "13906556686737527066"
     },
     "user_tz": -60
    },
    "id": "3oCKtnkHrhlE",
    "outputId": "19f8d0cb-2c37-4dd8-c50e-ed924175fa70"
   },
   "outputs": [],
   "source": [
    "from sklearn.metrics import roc_auc_score, accuracy_score\n",
    "\n",
    "\n",
    "xgb_train_preds_proba = xgb.predict_proba(train_features)[:, 1]\n",
    "xgb_test_preds_proba = xgb.predict_proba(test_features)[:, 1]\n",
    "\n",
    "print('AUC:',\n",
    "      f'TRAIN: {roc_auc_score(train_labels, xgb_train_preds_proba):.2f}',\n",
    "      f'TEST: {roc_auc_score(test_labels, xgb_test_preds_proba):.2f}',\n",
    "      sep='\\n')\n",
    "\n",
    "xgb_train_preds = xgb.predict(train_features)\n",
    "xgb_test_preds = xgb.predict(test_features)\n",
    "\n",
    "print(\"PORCENTAJE DE PARTIDOS QUE ACIERTA:\",\n",
    "      f'TRAIN: {accuracy_score(train_labels, xgb_train_preds) * 100:.2f}%',\n",
    "      f'TEST: {accuracy_score(test_labels, xgb_test_preds) * 100:.2f}%',\n",
    "      sep='\\n')"
   ]
  },
  {
   "cell_type": "markdown",
   "metadata": {
    "colab_type": "text",
    "id": "O_5VW0PXnmw5"
   },
   "source": [
    "# Reducimos la dimensión del dataset creando las variables diferencia (resta de cada una de las variables)"
   ]
  },
  {
   "cell_type": "code",
   "execution_count": null,
   "metadata": {
    "colab": {},
    "colab_type": "code",
    "id": "xto9Oy3bnmT3"
   },
   "outputs": [],
   "source": [
    "stats_player_1 = [column\n",
    "                  for column in df_matches_subset_joined.columns\n",
    "                  if column.endswith('_1') and column != 'player_1']\n",
    "\n",
    "stats_player_2 = [column\n",
    "                  for column in df_matches_subset_joined.columns\n",
    "                  if column.endswith('_2') and column != 'player_2']\n",
    "\n",
    "stats_columns = stats_player_1 + stats_player_2\n",
    "\n",
    "columns_to_subtract = zip(stats_player_1, stats_player_2)\n",
    "\n",
    "df_matches_subset_joined_subtract = df_matches_subset_joined.copy()\n",
    "\n",
    "for column_1, column_2 in columns_to_subtract:\n",
    "    df_matches_subset_joined_subtract[column_1.replace('_player_1', '')] = (\n",
    "      df_matches_subset_joined[column_1]\n",
    "      - df_matches_subset_joined[column_2]\n",
    "  )\n",
    "\n",
    "df_matches_subset_joined_subtract = (\n",
    "    df_matches_subset_joined_subtract\n",
    "    .drop(columns=stats_columns)\n",
    ")"
   ]
  },
  {
   "cell_type": "code",
   "execution_count": null,
   "metadata": {
    "colab": {
     "base_uri": "https://localhost:8080/",
     "height": 312
    },
    "colab_type": "code",
    "executionInfo": {
     "elapsed": 8022,
     "status": "ok",
     "timestamp": 1578678108331,
     "user": {
      "displayName": "Sergio Calderón Pérez-Lozao",
      "photoUrl": "https://lh3.googleusercontent.com/a-/AAuE7mCJQXOBBYNeA7EoDkuzmOR9mrpt00Oq0Utr2KbkLQ=s64",
      "userId": "13906556686737527066"
     },
     "user_tz": -60
    },
    "id": "O50_2EZuoPvc",
    "outputId": "bd69fd71-14d5-415b-e8c2-d3668e538191"
   },
   "outputs": [],
   "source": [
    "from xgboost import XGBClassifier\n",
    "from xgboost import plot_importance\n",
    "from sklearn.model_selection import train_test_split\n",
    "\n",
    "\n",
    "X = df_matches_subset_joined_subtract.drop(columns=['player_1',\n",
    "                                                    'player_2',\n",
    "                                                    'start_date',\n",
    "                                                    'year',\n",
    "                                                    'round',\n",
    "                                                    'court_surface',\n",
    "                                                    'tournament',\n",
    "                                                    'player_victory_target'])\n",
    "\n",
    "y = df_matches_subset_joined_subtract['player_victory_target']\n",
    "\n",
    "train_features, test_features, train_labels, test_labels = (\n",
    "    train_test_split(X, y, test_size = 0.25, random_state = 42)\n",
    ")\n",
    "\n",
    "params_xgb = dict(num_round=200,\n",
    "                  max_depth=4,\n",
    "                  random_state=0,\n",
    "                  reg_lambda=15,\n",
    "                  min_child_weight=10,\n",
    "                  objective='binary:logistic',\n",
    "                  colsample_bytree=.8,\n",
    "                  feature_names=train_features.columns)\n",
    "\n",
    "xgb = XGBClassifier(**params_xgb)\n",
    "\n",
    "xgb.fit(train_features, train_labels)\n",
    "\n",
    "plot_importance(xgb, max_num_features=10)"
   ]
  },
  {
   "cell_type": "code",
   "execution_count": null,
   "metadata": {
    "colab": {
     "base_uri": "https://localhost:8080/",
     "height": 119
    },
    "colab_type": "code",
    "executionInfo": {
     "elapsed": 8038,
     "status": "ok",
     "timestamp": 1578678108521,
     "user": {
      "displayName": "Sergio Calderón Pérez-Lozao",
      "photoUrl": "https://lh3.googleusercontent.com/a-/AAuE7mCJQXOBBYNeA7EoDkuzmOR9mrpt00Oq0Utr2KbkLQ=s64",
      "userId": "13906556686737527066"
     },
     "user_tz": -60
    },
    "id": "QO91tWcA0z9S",
    "outputId": "e52060ed-71a6-4ce2-94be-79b483eac4e7"
   },
   "outputs": [],
   "source": [
    "from sklearn.metrics import roc_auc_score, accuracy_score\n",
    "\n",
    "\n",
    "xgb_train_preds_proba = xgb.predict_proba(train_features)[:, 1]\n",
    "xgb_test_preds_proba = xgb.predict_proba(test_features)[:, 1]\n",
    "\n",
    "print('AUC:',\n",
    "      f'TRAIN: {roc_auc_score(train_labels, xgb_train_preds_proba):.2f}',\n",
    "      f'TEST: {roc_auc_score(test_labels, xgb_test_preds_proba):.2f}',\n",
    "      sep='\\n')\n",
    "\n",
    "xgb_train_preds = xgb.predict(train_features)\n",
    "xgb_test_preds = xgb.predict(test_features)\n",
    "\n",
    "print(\"PORCENTAJE DE PARTIDOS QUE ACIERTA:\",\n",
    "      f'TRAIN: {accuracy_score(train_labels, xgb_train_preds) * 100:.2f}%',\n",
    "      f'TEST: {accuracy_score(test_labels, xgb_test_preds) * 100:.2f}%',\n",
    "      sep='\\n')"
   ]
  },
  {
   "cell_type": "markdown",
   "metadata": {
    "colab_type": "text",
    "id": "hGAtADR7zWjJ"
   },
   "source": [
    "# Pickle para hacer el deploy en la app de Flask"
   ]
  },
  {
   "cell_type": "code",
   "execution_count": null,
   "metadata": {
    "colab": {},
    "colab_type": "code",
    "id": "YCuDwNRb0pst"
   },
   "outputs": [],
   "source": [
    "import pickle\n",
    "\n",
    "\n",
    "with open(PATH_PROJECT_MODELS / 'model.pkl', 'wb') as file:\n",
    "    pickle.dump(xgb, file) "
   ]
  },
  {
   "cell_type": "markdown",
   "metadata": {
    "colab_type": "text",
    "id": "oHueiViDfus6"
   },
   "source": [
    "# Guardamos los datos para las predicciones en la interfaz\n",
    "\n",
    "Últimas estadísticas de cada jugador"
   ]
  },
  {
   "cell_type": "code",
   "execution_count": null,
   "metadata": {
    "colab": {},
    "colab_type": "code",
    "id": "9zO9Hs8ugA74"
   },
   "outputs": [],
   "source": [
    "features_model = [\n",
    "  'player_name', 'sets_won', 'games_won', 'tiebreaks_won', 'serve_rating',\n",
    "  'aces', 'double_faults', 'first_serve_made', 'first_serve_attempted',\n",
    "  'first_serve_points_made', 'first_serve_points_attempted',\n",
    "  'second_serve_points_made', 'second_serve_points_attempted',\n",
    "  'break_points_saved', 'break_points_against', 'service_games_won',\n",
    "  'return_rating', 'first_serve_return_points_made',\n",
    "  'first_serve_return_points_attempted',\n",
    "  'second_serve_return_points_made',\n",
    "  'second_serve_return_points_attempted', 'break_points_made',\n",
    "  'break_points_attempted', 'return_games_played', 'service_points_won',\n",
    "  'service_points_attempted', 'return_points_won',\n",
    "  'return_points_attempted', 'total_points_won', 'player_victory'\n",
    "]\n",
    "\n",
    "(df_players_cleaned_grouped[features_model]\n",
    " .groupby('player_name')\n",
    " .max()\n",
    " .reset_index()\n",
    " .to_pickle(PATH_PROJECT_MODELS / 'data.pkl'))"
   ]
  },
  {
   "cell_type": "markdown",
   "metadata": {
    "colab_type": "text",
    "id": "Tn-o-0xq-jEU"
   },
   "source": [
    "# Interpretabilidad de las predicciones\n",
    "\n",
    "[Shap repo](https://github.com/slundberg/shap)\n",
    "\n",
    "![](https://raw.githubusercontent.com/slundberg/shap/master/docs/artwork/shap_header.png)"
   ]
  },
  {
   "cell_type": "code",
   "execution_count": null,
   "metadata": {
    "colab": {
     "base_uri": "https://localhost:8080/",
     "height": 210
    },
    "colab_type": "code",
    "executionInfo": {
     "elapsed": 4116,
     "status": "ok",
     "timestamp": 1578678342782,
     "user": {
      "displayName": "Sergio Calderón Pérez-Lozao",
      "photoUrl": "https://lh3.googleusercontent.com/a-/AAuE7mCJQXOBBYNeA7EoDkuzmOR9mrpt00Oq0Utr2KbkLQ=s64",
      "userId": "13906556686737527066"
     },
     "user_tz": -60
    },
    "id": "flhG5x7U-iSR",
    "outputId": "869d714c-8b3b-4173-84df-a4f8989fc537"
   },
   "outputs": [],
   "source": [
    "import xgboost\n",
    "import shap\n",
    "\n",
    "# load JS visualization code to notebook\n",
    "shap.initjs()\n",
    "\n",
    "# explain the model's predictions using SHAP\n",
    "# (same syntax works for LightGBM, CatBoost, scikit-learn and spark models)\n",
    "explainer = shap.TreeExplainer(xgb)\n",
    "shap_values = explainer.shap_values(X)\n",
    "\n",
    "index_final_nadal_federer = (\n",
    "    df_matches_subset_joined_subtract[\n",
    "      (df_matches_subset_joined_subtract.tournament == 'wimbledon')\n",
    "       & (df_matches_subset_joined_subtract.round_num == 7)\n",
    "       & (df_matches_subset_joined_subtract.year == 2008)].index\n",
    ")\n",
    "\n",
    "# visualize the first prediction's explanation (use matplotlib=True to avoid Javascript)\n",
    "shap.force_plot(explainer.expected_value,\n",
    "                shap_values[index_final_nadal_federer,:],\n",
    "                X.iloc[index_final_nadal_federer,:])"
   ]
  },
  {
   "cell_type": "markdown",
   "metadata": {
    "colab_type": "text",
    "id": "muahXiqjB6S2"
   },
   "source": [
    "## Los shap values se transforman a probabilidades aplicandoles una sigmoide"
   ]
  },
  {
   "cell_type": "code",
   "execution_count": null,
   "metadata": {
    "colab": {
     "base_uri": "https://localhost:8080/",
     "height": 34
    },
    "colab_type": "code",
    "executionInfo": {
     "elapsed": 595,
     "status": "ok",
     "timestamp": 1578678503128,
     "user": {
      "displayName": "Sergio Calderón Pérez-Lozao",
      "photoUrl": "https://lh3.googleusercontent.com/a-/AAuE7mCJQXOBBYNeA7EoDkuzmOR9mrpt00Oq0Utr2KbkLQ=s64",
      "userId": "13906556686737527066"
     },
     "user_tz": -60
    },
    "id": "F2ZtYBkIAmJ5",
    "outputId": "4183ff63-6696-4f0e-d66e-f63aab6142eb"
   },
   "outputs": [],
   "source": [
    "import math\n",
    "\n",
    "\n",
    "def sigmoid(x):\n",
    "    return 1 / (1 + math.exp(-x))\n",
    "\n",
    "\n",
    "sigmoid(-0.61), xgb.predict_proba(X.iloc[index_final_nadal_federer,:])[0, 1]"
   ]
  },
  {
   "cell_type": "markdown",
   "metadata": {
    "colab_type": "text",
    "id": "DWdHxWYmTFVs"
   },
   "source": [
    "# Top 3 variables que más influyen en una predicción específica"
   ]
  },
  {
   "cell_type": "code",
   "execution_count": null,
   "metadata": {
    "colab": {
     "base_uri": "https://localhost:8080/",
     "height": 34
    },
    "colab_type": "code",
    "executionInfo": {
     "elapsed": 520,
     "status": "ok",
     "timestamp": 1578680972273,
     "user": {
      "displayName": "Sergio Calderón Pérez-Lozao",
      "photoUrl": "https://lh3.googleusercontent.com/a-/AAuE7mCJQXOBBYNeA7EoDkuzmOR9mrpt00Oq0Utr2KbkLQ=s64",
      "userId": "13906556686737527066"
     },
     "user_tz": -60
    },
    "id": "S9oowxy8TNnn",
    "outputId": "e40e0383-424b-43fe-a824-13b008ff3623"
   },
   "outputs": [],
   "source": [
    "top_features = [feature\n",
    "                for feature, _ in sorted(\n",
    "                                    dict(\n",
    "                                        zip(X.columns,\n",
    "                                            explainer\n",
    "                                            .shap_values(\n",
    "                                                X.iloc[index_final_nadal_federer]\n",
    "                                        )[0]))\n",
    "                                    .items(),\n",
    "                                    key=lambda x: x[1],\n",
    "                                    reverse=True)[:3]]\n",
    "\n",
    "top_features"
   ]
  },
  {
   "cell_type": "markdown",
   "metadata": {
    "colab_type": "text",
    "id": "22UAV250hJ4l"
   },
   "source": [
    "## pickle del shap explainer"
   ]
  },
  {
   "cell_type": "code",
   "execution_count": null,
   "metadata": {
    "colab": {},
    "colab_type": "code",
    "id": "puWfqAGmhKGU"
   },
   "outputs": [],
   "source": [
    "with open(PATH_PROJECT_MODELS / 'shap_explainer.pkl', 'wb') as file:\n",
    "    pickle.dump(explainer, file)"
   ]
  }
 ],
 "metadata": {
  "colab": {
   "collapsed_sections": [],
   "machine_shape": "hm",
   "name": "Modelo_Supervisado.ipynb",
   "provenance": []
  },
  "kernelspec": {
   "display_name": "Python 3",
   "language": "python",
   "name": "python3"
  },
  "language_info": {
   "codemirror_mode": {
    "name": "ipython",
    "version": 3
   },
   "file_extension": ".py",
   "mimetype": "text/x-python",
   "name": "python",
   "nbconvert_exporter": "python",
   "pygments_lexer": "ipython3",
   "version": "3.7.0"
  }
 },
 "nbformat": 4,
 "nbformat_minor": 1
}
