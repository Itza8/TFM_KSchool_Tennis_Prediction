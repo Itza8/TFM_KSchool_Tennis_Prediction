{
 "cells": [
  {
   "cell_type": "markdown",
   "metadata": {
    "colab_type": "text",
    "id": "RGvEapuFH5b5"
   },
   "source": [
    "# Dependencias"
   ]
  },
  {
   "cell_type": "code",
   "execution_count": null,
   "metadata": {
    "colab": {
     "base_uri": "https://localhost:8080/",
     "height": 122
    },
    "colab_type": "code",
    "executionInfo": {
     "elapsed": 29065,
     "status": "ok",
     "timestamp": 1575542884617,
     "user": {
      "displayName": "Sergio Calderón Pérez-Lozao",
      "photoUrl": "https://lh3.googleusercontent.com/a-/AAuE7mCJQXOBBYNeA7EoDkuzmOR9mrpt00Oq0Utr2KbkLQ=s64",
      "userId": "13906556686737527066"
     },
     "user_tz": -60
    },
    "id": "IN2roA30HiW3",
    "outputId": "a13d6cf9-a217-4fca-9e0c-751044675572"
   },
   "outputs": [],
   "source": [
    "import pandas as pd\n",
    "import matplotlib.pyplot as plt\n",
    "from sklearn import preprocessing\n",
    "from scipy.cluster.hierarchy import dendrogram, linkage\n",
    "from pathlib import Path"
   ]
  },
  {
   "cell_type": "markdown",
   "metadata": {
    "colab_type": "text",
    "id": "qc2yvsPBJ9sR"
   },
   "source": [
    "# Constantes"
   ]
  },
  {
   "cell_type": "code",
   "execution_count": null,
   "metadata": {
    "colab": {},
    "colab_type": "code",
    "id": "CxKRwXMNJ9wo"
   },
   "outputs": [],
   "source": [
    "PATH_PROJECT_DATA = Path('../data')"
   ]
  },
  {
   "cell_type": "markdown",
   "metadata": {
    "colab_type": "text",
    "id": "Jp29VYwHJ90t"
   },
   "source": [
    "# Lectura de los datos"
   ]
  },
  {
   "cell_type": "code",
   "execution_count": null,
   "metadata": {
    "colab": {},
    "colab_type": "code",
    "id": "xDn5eCPlJ94i"
   },
   "outputs": [],
   "source": [
    "df_players_cleaned = pd.read_csv(PATH_PROJECT_DATA / 'players_cleaned.csv')\n",
    "df_matches = pd.read_csv(PATH_PROJECT_DATA / 'matches_grand_slam_cleaned.csv')"
   ]
  },
  {
   "cell_type": "markdown",
   "metadata": {
    "colab_type": "text",
    "id": "O72VEVlpR5su"
   },
   "source": [
    "# Transformamos las columnas a numerico\n",
    "\n",
    "Clustering jerárquico solo con valores numéricos"
   ]
  },
  {
   "cell_type": "code",
   "execution_count": null,
   "metadata": {
    "colab": {},
    "colab_type": "code",
    "id": "rX3VZKgYR6A1"
   },
   "outputs": [],
   "source": [
    "df_players_cleaned['player_victory'] = (\n",
    "    pd.get_dummies(df_players_cleaned['player_victory'],\n",
    "                   drop_first=True)\n",
    ")"
   ]
  },
  {
   "cell_type": "markdown",
   "metadata": {
    "colab_type": "text",
    "id": "ubUdFc3mSOhB"
   },
   "source": [
    "# Agrupamos variables para cada jugador\n",
    "\n",
    "Vamos a enfocar los clustering para que un jugador tenga todas sus estadísticas agregadas (victorias totales, puntos totales, etc)"
   ]
  },
  {
   "cell_type": "code",
   "execution_count": null,
   "metadata": {
    "colab": {},
    "colab_type": "code",
    "id": "pA0FicRnPkqO"
   },
   "outputs": [],
   "source": [
    "df_players_cleaned_grouped = (\n",
    "    df_players_cleaned\n",
    "    .drop(columns=['year', 'tournament', 'seed'])\n",
    "    .groupby('player_name')\n",
    "    .sum()\n",
    "    .reset_index()\n",
    ")"
   ]
  },
  {
   "cell_type": "markdown",
   "metadata": {
    "colab_type": "text",
    "id": "Qzn53pw_RoT2"
   },
   "source": [
    "# Seleccionamos los datos que vamos a utilizar para hacer el clustering\n",
    "\n",
    "Definimos número de jugadores en `TOP_N` y si queremos ver el top de tenistas o una muestra aleatoria de ese tamaño. \n",
    "\n",
    "Esto lo hacemos porque no tiene sentido visualizar los miles de tenistas a la vez para un cluster jerárquico."
   ]
  },
  {
   "cell_type": "code",
   "execution_count": null,
   "metadata": {
    "colab": {},
    "colab_type": "code",
    "id": "Y-jjQgWNQxYr"
   },
   "outputs": [],
   "source": [
    "TOP_N = 25\n",
    "plot_top_players = True\n",
    "\n",
    "if plot_top_players:\n",
    "    X = df_players_cleaned_grouped.nlargest(TOP_N, columns='player_victory')\n",
    "else:\n",
    "    X = df_players_cleaned_grouped"
   ]
  },
  {
   "cell_type": "markdown",
   "metadata": {
    "colab_type": "text",
    "id": "uX0Zb4QTJ9-C"
   },
   "source": [
    "# Clusterización Jerárquica\n",
    "\n",
    "Sale bastante chulo, Federer es el tenísta único y le siguen Nadal y Djokovic como siguientes más unicos (y parecidos entre ellos)."
   ]
  },
  {
   "cell_type": "code",
   "execution_count": null,
   "metadata": {
    "colab": {
     "base_uri": "https://localhost:8080/",
     "height": 852
    },
    "colab_type": "code",
    "executionInfo": {
     "elapsed": 33226,
     "status": "ok",
     "timestamp": 1575542888818,
     "user": {
      "displayName": "Sergio Calderón Pérez-Lozao",
      "photoUrl": "https://lh3.googleusercontent.com/a-/AAuE7mCJQXOBBYNeA7EoDkuzmOR9mrpt00Oq0Utr2KbkLQ=s64",
      "userId": "13906556686737527066"
     },
     "user_tz": -60
    },
    "id": "2Sa0LvZ8J-Bk",
    "outputId": "41ef6bda-6bd6-46ea-bed3-8aa0cdf4068f"
   },
   "outputs": [],
   "source": [
    "linked = linkage(X.drop(columns='player_name'), 'single')\n",
    "\n",
    "plt.figure(figsize=(20, 14))\n",
    "dendrogram(linked,\n",
    "           orientation='top',\n",
    "           labels=X['player_name'].tolist())\n",
    "plt.show()"
   ]
  },
  {
   "cell_type": "markdown",
   "metadata": {
    "colab_type": "text",
    "id": "djPUxunaToav"
   },
   "source": [
    "# KMeans clustering\n",
    "\n",
    "Utilizamos el Kelbow para ver qué número de variables es el más óptimo para llevar a cabo el clustering"
   ]
  },
  {
   "cell_type": "code",
   "execution_count": null,
   "metadata": {},
   "outputs": [],
   "source": [
    "from sklearn.cluster import KMeans\n",
    "import numpy as np\n",
    "from scipy.spatial.distance import cdist\n",
    "\n",
    "scaler = preprocessing.StandardScaler()\n",
    "X_scaled = scaler.fit_transform(df_players_cleaned_grouped\n",
    "                                .drop(columns='player_name'))\n",
    "\n",
    "# k means determine k\n",
    "distortions = []\n",
    "K = range(1,10)\n",
    "for k in K:\n",
    "    kmeans = KMeans(n_clusters=k).fit(X_scaled)\n",
    "    distortions.append(sum(np.min(cdist(X_scaled,\n",
    "                                        kmeans.cluster_centers_,\n",
    "                                        'euclidean'), axis=1)) / X_scaled.shape[0])\n",
    "\n",
    "# Plot the elbow\n",
    "plt.plot(K, distortions, 'bx-')\n",
    "plt.xlabel('k')\n",
    "plt.ylabel('Distortion')\n",
    "plt.title('The Elbow Method showing the optimal k')\n",
    "plt.show()"
   ]
  },
  {
   "cell_type": "markdown",
   "metadata": {},
   "source": [
    "# Número óptimo de clusters: 5"
   ]
  },
  {
   "cell_type": "code",
   "execution_count": null,
   "metadata": {},
   "outputs": [],
   "source": [
    "kmeans = KMeans(random_state=8,\n",
    "                init='random',\n",
    "                n_clusters=5,\n",
    "                n_init=10).fit(X_scaled)\n",
    "\n",
    "df_players_cleaned_grouped['kmeans'] = kmeans.predict(X_scaled)"
   ]
  },
  {
   "cell_type": "markdown",
   "metadata": {
    "colab_type": "text",
    "id": "ho6LKD7bfdLK"
   },
   "source": [
    "# Agrupamos por cluster asignado y vemos numero de victorias\n",
    "\n",
    "Vemos que hay clusters donde hay muchas más victorias que la media y clusters que tienen muchas menos, no tiene mala pinta.\n",
    "\n",
    "La media de victorias es de 13.14 por jugador.\n"
   ]
  },
  {
   "cell_type": "code",
   "execution_count": null,
   "metadata": {
    "colab": {
     "base_uri": "https://localhost:8080/",
     "height": 297
    },
    "colab_type": "code",
    "executionInfo": {
     "elapsed": 38203,
     "status": "ok",
     "timestamp": 1575542893822,
     "user": {
      "displayName": "Sergio Calderón Pérez-Lozao",
      "photoUrl": "https://lh3.googleusercontent.com/a-/AAuE7mCJQXOBBYNeA7EoDkuzmOR9mrpt00Oq0Utr2KbkLQ=s64",
      "userId": "13906556686737527066"
     },
     "user_tz": -60
    },
    "id": "RkClNi9neY4h",
    "outputId": "deec25e6-0520-4aac-8305-f2beab84f11b"
   },
   "outputs": [],
   "source": [
    "(df_players_cleaned_grouped\n",
    " .drop(columns=['kmeans'])\n",
    " .merge(df_players_cleaned_grouped[['player_name', 'kmeans']],\n",
    "        on='player_name',\n",
    "        how='inner')\n",
    " .groupby('kmeans')\n",
    " .player_victory\n",
    " .agg(['mean', 'count'])\n",
    " .reset_index())"
   ]
  },
  {
   "cell_type": "markdown",
   "metadata": {
    "colab_type": "text",
    "id": "6ERtoOY-YQEz"
   },
   "source": [
    "## Viendo el top de tenistas vemos como a los primeros cracks los mete en el mismo clustering y viendo a los peores pasa exactamente lo mismo"
   ]
  },
  {
   "cell_type": "code",
   "execution_count": null,
   "metadata": {
    "colab": {
     "base_uri": "https://localhost:8080/",
     "height": 824
    },
    "colab_type": "code",
    "executionInfo": {
     "elapsed": 38191,
     "status": "ok",
     "timestamp": 1575542893824,
     "user": {
      "displayName": "Sergio Calderón Pérez-Lozao",
      "photoUrl": "https://lh3.googleusercontent.com/a-/AAuE7mCJQXOBBYNeA7EoDkuzmOR9mrpt00Oq0Utr2KbkLQ=s64",
      "userId": "13906556686737527066"
     },
     "user_tz": -60
    },
    "id": "GO1U4MKna3la",
    "outputId": "d94e9f50-bc36-40f7-f5c6-6417343496bc"
   },
   "outputs": [],
   "source": [
    "USE_LARGESTS = True\n",
    "\n",
    "if USE_LARGESTS:\n",
    "    display(df_players_cleaned_grouped\n",
    "            [['player_name', 'player_victory', 'kmeans']]\n",
    "            .nlargest(TOP_N, columns='player_victory')\n",
    "            .groupby('player_name')\n",
    "            .agg(dict(kmeans=pd.Series.mode, player_victory='first'))\n",
    "            .reset_index()\n",
    "            .sort_values(by='player_victory', ascending=False))\n",
    "else:\n",
    "    display(df_players_cleaned_grouped\n",
    "            [['player_name', 'player_victory', 'kmeans']]\n",
    "            .nsmallest(TOP_N, columns='player_victory')\n",
    "            .groupby('player_name')\n",
    "            .agg(dict(kmeans=pd.Series.mode, player_victory='first'))\n",
    "            .reset_index()\n",
    "            .sort_values(by='player_victory', ascending=False))"
   ]
  }
 ],
 "metadata": {
  "colab": {
   "collapsed_sections": [],
   "machine_shape": "hm",
   "name": "Sergio Hora Particular.ipynb",
   "provenance": []
  },
  "kernelspec": {
   "display_name": "Python 3",
   "language": "python",
   "name": "python3"
  },
  "language_info": {
   "codemirror_mode": {
    "name": "ipython",
    "version": 3
   },
   "file_extension": ".py",
   "mimetype": "text/x-python",
   "name": "python",
   "nbconvert_exporter": "python",
   "pygments_lexer": "ipython3",
   "version": "3.7.0"
  }
 },
 "nbformat": 4,
 "nbformat_minor": 1
}
