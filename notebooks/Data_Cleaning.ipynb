{
 "cells": [
  {
   "cell_type": "code",
   "execution_count": null,
   "metadata": {
    "colab": {
     "base_uri": "https://localhost:8080/",
     "height": 122.0
    },
    "colab_type": "code",
    "executionInfo": {
     "elapsed": 18467.0,
     "status": "ok",
     "timestamp": 1.57600790196E12,
     "user": {
      "displayName": "Sergio Calderón Pérez-Lozao",
      "photoUrl": "https://lh3.googleusercontent.com/a-/AAuE7mCJQXOBBYNeA7EoDkuzmOR9mrpt00Oq0Utr2KbkLQ=s64",
      "userId": "13906556686737527066"
     },
     "user_tz": -60.0
    },
    "id": "9ros-D7K_zlh",
    "outputId": "4a83bdee-8fc4-4b73-857b-4250e99b1677"
   },
   "outputs": [],
   "source": [
    "import pandas as pd\n",
    "from pathlib import Path"
   ]
  },
  {
   "cell_type": "code",
   "execution_count": null,
   "metadata": {
    "colab": {},
    "colab_type": "code",
    "id": "QsEDoBct_6XV"
   },
   "outputs": [],
   "source": [
    "PATH_PROJECT_DATA = Path('../data')\n",
    "GRAND_SLAMS = ['wimbledon', 'roland-garros', 'us-open', 'australian-open']"
   ]
  },
  {
   "cell_type": "markdown",
   "metadata": {
    "colab_type": "text",
    "id": "ivDgDTl-J9T2"
   },
   "source": [
    "# Leemos los partidos"
   ]
  },
  {
   "cell_type": "code",
   "execution_count": null,
   "metadata": {
    "colab": {
     "base_uri": "https://localhost:8080/",
     "height": 51.0
    },
    "colab_type": "code",
    "executionInfo": {
     "elapsed": 28607.0,
     "status": "ok",
     "timestamp": 1.576007931549E12,
     "user": {
      "displayName": "Sergio Calderón Pérez-Lozao",
      "photoUrl": "https://lh3.googleusercontent.com/a-/AAuE7mCJQXOBBYNeA7EoDkuzmOR9mrpt00Oq0Utr2KbkLQ=s64",
      "userId": "13906556686737527066"
     },
     "user_tz": -60.0
    },
    "id": "xO-mhJ1d_8dL",
    "outputId": "0ce40920-0a9e-42c6-8ede-4947355b6c62"
   },
   "outputs": [],
   "source": [
    "df_matches = pd.read_csv(PATH_PROJECT_DATA / 'all_matches.csv')"
   ]
  },
  {
   "cell_type": "markdown",
   "metadata": {
    "colab_type": "text",
    "id": "cwO8HQXHAZ5_"
   },
   "source": [
    "# Filtramos solo los partidos de Grand Slam de individuales posteriores al año 1990 y eliminamos columnas que no nos den información"
   ]
  },
  {
   "cell_type": "code",
   "execution_count": null,
   "metadata": {
    "colab": {},
    "colab_type": "code",
    "id": "IxKubXxU_-Ap"
   },
   "outputs": [],
   "source": [
    "columns_to_drop = ['end_date', 'location', 'prize_money',\n",
    "                   'currency', 'num_sets', 'games_against',\n",
    "                   'doubles', 'masters', 'nation']\n",
    "                   \n",
    "is_grand_slam = df_matches['tournament'].isin(GRAND_SLAMS)\n",
    "is_individual = ~df_matches['player_id'].str.contains('_')\n",
    "is_after_1990 = df_matches['year'] >= 1990\n",
    "\n",
    "df_matches_grand_slam = (\n",
    "    df_matches[is_grand_slam & is_individual & is_after_1990]\n",
    "    .drop(columns=columns_to_drop)\n",
    "    .copy()\n",
    ")"
   ]
  },
  {
   "cell_type": "markdown",
   "metadata": {
    "colab_type": "text",
    "id": "-KFRr6EBLM8Q"
   },
   "source": [
    "# Rellenamos los `seed` que están a nulo con el valor 1000\n",
    "\n",
    "Esto es porque los NA corresponde a gente que no está en el top, por tanto de cara a un modelo es interesante ponerles un valor alto para que sepa que están lejos del número 1.\n",
    "\n",
    "También nos interesa dejarlo como columna numérica de cara a un modelo, eliminando los valores Q, WC, LL..."
   ]
  },
  {
   "cell_type": "code",
   "execution_count": null,
   "metadata": {
    "colab": {},
    "colab_type": "code",
    "id": "pVhlNIpZOQ84"
   },
   "outputs": [],
   "source": [
    "SEEDS_TO_DROP = ['Q', 'WC', 'PR', 'LL', 'AL', '1 WC']\n",
    "SEEDS_FILLNA = '1000'\n",
    "\n",
    "df_matches_grand_slam['seed'] = (\n",
    "    df_matches_grand_slam['seed'].fillna(SEEDS_FILLNA)\n",
    ")\n",
    "\n",
    "df_matches_grand_slam.loc[df_matches_grand_slam['seed']\n",
    "                          .isin(SEEDS_TO_DROP), 'seed'] = SEEDS_FILLNA\n",
    "\n",
    "df_matches_grand_slam['seed'] = df_matches_grand_slam['seed'].astype(int)"
   ]
  },
  {
   "cell_type": "markdown",
   "metadata": {
    "colab_type": "text",
    "id": "AxDwc80yJQyW"
   },
   "source": [
    "# Eliminamos los partidos de los cuales no hay información más allá del resultado"
   ]
  },
  {
   "cell_type": "code",
   "execution_count": null,
   "metadata": {
    "colab": {},
    "colab_type": "code",
    "id": "Au22xC05KEj0"
   },
   "outputs": [],
   "source": [
    "df_matches_grand_slam_dropna = df_matches_grand_slam.dropna(how='any').copy()"
   ]
  },
  {
   "cell_type": "markdown",
   "metadata": {
    "colab_type": "text",
    "id": "k4XqBpIXO_VN"
   },
   "source": [
    "# Cruzamos los players para tener información de los dos jugadores en la misma fila\n",
    "\n",
    "- Creamos la columna `players` para poder tener a cada pareja identificada alfabeticamente y en una sola columna\n",
    "- Creamos dos dataframes, `df_player` y `df_opponent` donde vamos a tener por separado la información del jugador 1 y del 2\n",
    "- Cruzamos los dos para tener toda la información en un solo dataframe y eliminamos las columnas que tengan información duplicada o que no nos interesen para dejarlo todo limpio"
   ]
  },
  {
   "cell_type": "code",
   "execution_count": null,
   "metadata": {
    "colab": {},
    "colab_type": "code",
    "id": "QsmS7MeFX9Kr"
   },
   "outputs": [],
   "source": [
    "df_matches_grand_slam_dropna['players'] = (\n",
    "    df_matches_grand_slam_dropna[['player_id', 'opponent_id']]\n",
    "    .apply(lambda x: ' '.join(sorted([x['player_id'], x['opponent_id']])),\n",
    "           axis=1)\n",
    ")\n",
    "\n",
    "df_player = (df_matches_grand_slam_dropna\n",
    "             .groupby(['players', 'year', 'tournament'])\n",
    "             .head(1)\n",
    "             .rename(columns=dict(player_name='player_1',\n",
    "                                  player_victory='player_victory_1',\n",
    "                                  won_first_set='won_first_set_1'))\n",
    "             .drop(columns=['player_id', 'opponent_id', 'opponent_name']))\n",
    "\n",
    "df_opponent = (df_matches_grand_slam_dropna\n",
    "               .groupby(['players', 'year', 'tournament'])\n",
    "               .tail(1)\n",
    "               .rename(columns=dict(player_name='player_2'))\n",
    "               .drop(columns=['player_id', 'opponent_id',\n",
    "                              'tiebreaks_total', 'total_points',\n",
    "                              'round', 'duration',\n",
    "                              'opponent_name', 'court_surface',\n",
    "                              'won_first_set']))\n",
    "\n",
    "df_matches_grand_slam_cleaned = (\n",
    "    df_player\n",
    "    .merge(df_opponent.drop(columns=['player_victory',\n",
    "                                     'start_date',\n",
    "                                     'round_num']),\n",
    "           on=['players', 'year', 'tournament'],\n",
    "           how='inner',\n",
    "           suffixes=('_1', '_2'))\n",
    ")"
   ]
  },
  {
   "cell_type": "markdown",
   "metadata": {
    "colab_type": "text",
    "id": "JTrt3Tm2Oh3w"
   },
   "source": [
    "# Dataframe de jugadores limpio"
   ]
  },
  {
   "cell_type": "code",
   "execution_count": null,
   "metadata": {
    "colab": {},
    "colab_type": "code",
    "id": "hSh83k8WM_0_"
   },
   "outputs": [],
   "source": [
    "df_players_cleaned = pd.concat(\n",
    "    [df_player\n",
    "     .rename(columns=dict(player_1='player_name',\n",
    "                          player_victory_1='player_victory'))\n",
    "     .drop(columns=['tiebreaks_total', 'total_points',\n",
    "                    'round', 'duration',\n",
    "                    'court_surface', 'won_first_set_1',\n",
    "                    'players']),\n",
    "     df_opponent\n",
    "     .rename(columns=dict(player_2='player_name'))\n",
    "     .drop(columns=['players'])]\n",
    ")"
   ]
  },
  {
   "cell_type": "markdown",
   "metadata": {
    "colab_type": "text",
    "id": "OlLGULbBNXuf"
   },
   "source": [
    "# Guardamos los datos limpios"
   ]
  },
  {
   "cell_type": "code",
   "execution_count": null,
   "metadata": {
    "colab": {},
    "colab_type": "code",
    "id": "C3Jqc1zoNXjA"
   },
   "outputs": [],
   "source": [
    "df_matches_grand_slam_cleaned.to_csv(PATH_PROJECT_DATA\n",
    "                                     / 'matches_grand_slam_cleaned.csv',\n",
    "                                     index=None)\n",
    "\n",
    "df_players_cleaned.to_csv(PATH_PROJECT_DATA\n",
    "                          / 'players_cleaned.csv',\n",
    "                          index=None)"
   ]
  }
 ],
 "metadata": {
  "colab": {
   "collapsed_sections": [],
   "name": "Data_Cleaning.ipynb",
   "provenance": []
  },
  "kernelspec": {
   "display_name": "Python 3",
   "language": "python",
   "name": "python3"
  },
  "language_info": {
   "codemirror_mode": {
    "name": "ipython",
    "version": 3
   },
   "file_extension": ".py",
   "mimetype": "text/x-python",
   "name": "python",
   "nbconvert_exporter": "python",
   "pygments_lexer": "ipython3",
   "version": "3.7.0"
  }
 },
 "nbformat": 4,
 "nbformat_minor": 1
}
